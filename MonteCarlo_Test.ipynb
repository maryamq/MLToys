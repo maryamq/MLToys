{
  "nbformat": 4,
  "nbformat_minor": 0,
  "metadata": {
    "colab": {
      "provenance": [],
      "authorship_tag": "ABX9TyMJJ9kJ73cMXAQxci1Z1zqw",
      "include_colab_link": true
    },
    "kernelspec": {
      "name": "python3",
      "display_name": "Python 3"
    },
    "language_info": {
      "name": "python"
    }
  },
  "cells": [
    {
      "cell_type": "markdown",
      "metadata": {
        "id": "view-in-github",
        "colab_type": "text"
      },
      "source": [
        "<a href=\"https://colab.research.google.com/github/maryamq/MLToys/blob/main/MonteCarlo_Test.ipynb\" target=\"_parent\"><img src=\"https://colab.research.google.com/assets/colab-badge.svg\" alt=\"Open In Colab\"/></a>"
      ]
    },
    {
      "cell_type": "code",
      "execution_count": 14,
      "metadata": {
        "id": "whpqIH0mohPl"
      },
      "outputs": [],
      "source": [
        "import tensorflow as tf\n",
        "import numpy as np\n",
        "import seaborn as sns\n",
        "import matplotlib.pyplot as plt\n"
      ]
    },
    {
      "cell_type": "code",
      "source": [
        "(x_train, y_train), (x_test, y_test) = tf.keras.datasets.boston_housing.load_data()"
      ],
      "metadata": {
        "colab": {
          "base_uri": "https://localhost:8080/"
        },
        "id": "3Og_3uTMoowJ",
        "outputId": "0ec0b522-a49b-4853-c3fe-87fcdf7b265c"
      },
      "execution_count": 2,
      "outputs": [
        {
          "output_type": "stream",
          "name": "stdout",
          "text": [
            "Downloading data from https://storage.googleapis.com/tensorflow/tf-keras-datasets/boston_housing.npz\n",
            "57344/57026 [==============================] - 0s 0us/step\n",
            "65536/57026 [==================================] - 0s 0us/step\n"
          ]
        }
      ]
    },
    {
      "cell_type": "code",
      "source": [
        "norm_layer = tf.keras.layers.Normalization(axis=None)\n",
        "norm_layer.adapt(x_train)"
      ],
      "metadata": {
        "id": "hVmCFc7gq9zp"
      },
      "execution_count": 9,
      "outputs": []
    },
    {
      "cell_type": "code",
      "source": [
        "drop_out = 0.1\n",
        "model = tf.keras.models.Sequential()\n",
        "model.add(tf.keras.layers.Input(shape=(13,)))\n",
        "model.add(norm_layer)\n",
        "model.add(tf.keras.layers.Dropout(0.1))\n",
        "model.add(tf.keras.layers.Dense(50, activation=\"relu\"))\n",
        "model.add(tf.keras.layers.Dropout(0.1))\n",
        "model.add(tf.keras.layers.Dense(10, activation=\"relu\"))\n",
        "model.add(tf.keras.layers.Dropout(0.1))\n",
        "model.add(tf.keras.layers.Dense(1))\n",
        "\n",
        "model.compile(loss=\"mse\", optimizer=tf.keras.optimizers.Adam(learning_rate=0.008))\n",
        "model.fit(x_train, y_train, epochs=30, validation_split=0.1)"
      ],
      "metadata": {
        "colab": {
          "base_uri": "https://localhost:8080/"
        },
        "id": "-nQHFkGZoz4P",
        "outputId": "10da7556-95d7-4e00-e981-a922883cdbe0"
      },
      "execution_count": 11,
      "outputs": [
        {
          "output_type": "stream",
          "name": "stdout",
          "text": [
            "Epoch 1/30\n",
            "12/12 [==============================] - 1s 16ms/step - loss: 473.4565 - val_loss: 184.1750\n",
            "Epoch 2/30\n",
            "12/12 [==============================] - 0s 5ms/step - loss: 170.2584 - val_loss: 83.7946\n",
            "Epoch 3/30\n",
            "12/12 [==============================] - 0s 4ms/step - loss: 118.8976 - val_loss: 48.6678\n",
            "Epoch 4/30\n",
            "12/12 [==============================] - 0s 4ms/step - loss: 102.3244 - val_loss: 30.7931\n",
            "Epoch 5/30\n",
            "12/12 [==============================] - 0s 4ms/step - loss: 96.2687 - val_loss: 23.3846\n",
            "Epoch 6/30\n",
            "12/12 [==============================] - 0s 5ms/step - loss: 85.0788 - val_loss: 21.9601\n",
            "Epoch 7/30\n",
            "12/12 [==============================] - 0s 4ms/step - loss: 88.3418 - val_loss: 21.6962\n",
            "Epoch 8/30\n",
            "12/12 [==============================] - 0s 5ms/step - loss: 79.9600 - val_loss: 25.5225\n",
            "Epoch 9/30\n",
            "12/12 [==============================] - 0s 4ms/step - loss: 87.7378 - val_loss: 21.9494\n",
            "Epoch 10/30\n",
            "12/12 [==============================] - 0s 5ms/step - loss: 80.9039 - val_loss: 25.2091\n",
            "Epoch 11/30\n",
            "12/12 [==============================] - 0s 7ms/step - loss: 83.6102 - val_loss: 24.0902\n",
            "Epoch 12/30\n",
            "12/12 [==============================] - 0s 4ms/step - loss: 88.2056 - val_loss: 27.7133\n",
            "Epoch 13/30\n",
            "12/12 [==============================] - 0s 5ms/step - loss: 82.1950 - val_loss: 22.8916\n",
            "Epoch 14/30\n",
            "12/12 [==============================] - 0s 4ms/step - loss: 84.4017 - val_loss: 24.3071\n",
            "Epoch 15/30\n",
            "12/12 [==============================] - 0s 4ms/step - loss: 90.2083 - val_loss: 21.6414\n",
            "Epoch 16/30\n",
            "12/12 [==============================] - 0s 4ms/step - loss: 85.3579 - val_loss: 20.9160\n",
            "Epoch 17/30\n",
            "12/12 [==============================] - 0s 5ms/step - loss: 81.7507 - val_loss: 21.9090\n",
            "Epoch 18/30\n",
            "12/12 [==============================] - 0s 5ms/step - loss: 85.8090 - val_loss: 23.4364\n",
            "Epoch 19/30\n",
            "12/12 [==============================] - 0s 4ms/step - loss: 78.2195 - val_loss: 20.7321\n",
            "Epoch 20/30\n",
            "12/12 [==============================] - 0s 5ms/step - loss: 84.0614 - val_loss: 21.2475\n",
            "Epoch 21/30\n",
            "12/12 [==============================] - 0s 5ms/step - loss: 80.7693 - val_loss: 21.7357\n",
            "Epoch 22/30\n",
            "12/12 [==============================] - 0s 4ms/step - loss: 70.7795 - val_loss: 20.4171\n",
            "Epoch 23/30\n",
            "12/12 [==============================] - 0s 4ms/step - loss: 81.1329 - val_loss: 22.8286\n",
            "Epoch 24/30\n",
            "12/12 [==============================] - 0s 4ms/step - loss: 77.5167 - val_loss: 21.9800\n",
            "Epoch 25/30\n",
            "12/12 [==============================] - 0s 4ms/step - loss: 85.6555 - val_loss: 21.1820\n",
            "Epoch 26/30\n",
            "12/12 [==============================] - 0s 4ms/step - loss: 90.4002 - val_loss: 22.6696\n",
            "Epoch 27/30\n",
            "12/12 [==============================] - 0s 5ms/step - loss: 82.2059 - val_loss: 20.5770\n",
            "Epoch 28/30\n",
            "12/12 [==============================] - 0s 4ms/step - loss: 79.1592 - val_loss: 23.4304\n",
            "Epoch 29/30\n",
            "12/12 [==============================] - 0s 5ms/step - loss: 83.1385 - val_loss: 20.8800\n",
            "Epoch 30/30\n",
            "12/12 [==============================] - 0s 4ms/step - loss: 78.6437 - val_loss: 19.5710\n"
          ]
        },
        {
          "output_type": "execute_result",
          "data": {
            "text/plain": [
              "<keras.callbacks.History at 0x7fd4aa1c6a90>"
            ]
          },
          "metadata": {},
          "execution_count": 11
        }
      ]
    },
    {
      "cell_type": "code",
      "source": [
        "def get_preds(model, x_test, num_samples=1, enable_mc=False):\n",
        "  preds = [model(x_test, training=enable_mc) for _ in range(num_samples)]\n",
        "  return np.stack(preds)\n",
        "\n",
        "def get_preds_mean(model, x_test, num_samples=1, enable_mc=False):\n",
        "  preds = get_preds(model, x_test, num_samples, enable_mc)\n",
        "  return preds.mean(axis=0)"
      ],
      "metadata": {
        "id": "NDPR-QvarkBu"
      },
      "execution_count": 36,
      "outputs": []
    },
    {
      "cell_type": "code",
      "source": [
        "from sklearn.metrics import mean_squared_error\n",
        "print(\"Simple Model: \",mean_squared_error(get_preds_mean(model, x_test), y_test) )\n",
        "print(\"MC Model: \",mean_squared_error(get_preds_mean(model, x_test, num_samples=100, enable_mc=True), y_test))"
      ],
      "metadata": {
        "colab": {
          "base_uri": "https://localhost:8080/"
        },
        "id": "xghiLY5tsYon",
        "outputId": "2a95f783-6677-4777-804c-5e5d4e524c5c"
      },
      "execution_count": 37,
      "outputs": [
        {
          "output_type": "stream",
          "name": "stdout",
          "text": [
            "Simple Model:  57.0677925997827\n",
            "MC Model:  56.41456241766134\n"
          ]
        }
      ]
    },
    {
      "cell_type": "code",
      "source": [
        "sample_idx = 50\n",
        "sample_preds = get_preds(model, x_test[sample_idx], num_samples=100, enable_mc=True)\n",
        "simple_pred = get_preds_mean(model, x_test[sample_idx], num_samples=1, enable_mc=False)\n",
        "sns.kdeplot(sample_preds.reshape(-1), shade=True)\n",
        "plt.axvline(simple_pred, color='green')\n",
        "plt.axvline(y_test[sample_idx], color='red')"
      ],
      "metadata": {
        "colab": {
          "base_uri": "https://localhost:8080/",
          "height": 287
        },
        "id": "WxGjwEmMsz1d",
        "outputId": "b8a41805-11c9-4827-e920-8dc7cae400b4"
      },
      "execution_count": 47,
      "outputs": [
        {
          "output_type": "execute_result",
          "data": {
            "text/plain": [
              "<matplotlib.lines.Line2D at 0x7fd49cdb8890>"
            ]
          },
          "metadata": {},
          "execution_count": 47
        },
        {
          "output_type": "display_data",
          "data": {
            "text/plain": [
              "<Figure size 432x288 with 1 Axes>"
            ],
            "image/png": "[encoded data removed]"
          },
          "metadata": {
            "needs_background": "light"
          }
        }
      ]
    }
  ]
}