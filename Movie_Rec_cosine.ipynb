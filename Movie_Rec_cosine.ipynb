{
  "cells": [
    {
      "cell_type": "markdown",
      "metadata": {
        "id": "view-in-github",
        "colab_type": "text"
      },
      "source": [
        "<a href=\"https://colab.research.google.com/github/maryamq/MLToys/blob/main/Movie_Rec_cosine.ipynb\" target=\"_parent\"><img src=\"https://colab.research.google.com/assets/colab-badge.svg\" alt=\"Open In Colab\"/></a>"
      ]
    },
    {
      "cell_type": "code",
      "execution_count": null,
      "metadata": {
        "id": "mwQRQxTHTS3U"
      },
      "outputs": [],
      "source": [
        "# Reference: https://github.com/DOsinga/deep_learning_cookbook/blob/master/04.2%20Build%20a%20recommender%20system%20based%20on%20outgoing%20Wikipedia%20links.ipynb\n",
        "import tensorflow as tf\n",
        "import numpy as np\n",
        "import pandas as pd\n",
        "import matplotlib.pyplot as plt\n",
        "from collections import Counter\n",
        "import random\n",
        "import json\n"
      ]
    },
    {
      "cell_type": "code",
      "execution_count": null,
      "metadata": {
        "id": "ssYQRA0rTy-7"
      },
      "outputs": [],
      "source": [
        "with open('wp_movies_10k.ndjson') as fin:\n",
        "    movies = [json.loads(l.lower()) for l in fin]\n"
      ]
    },
    {
      "cell_type": "markdown",
      "metadata": {
        "id": "lN4n_BMaU4_s"
      },
      "source": [
        "We want to collect top publications and sources that mention the movie."
      ]
    },
    {
      "cell_type": "code",
      "execution_count": null,
      "metadata": {
        "colab": {
          "base_uri": "https://localhost:8080/"
        },
        "id": "sAbIvG-lUAjH",
        "outputId": "b18e8890-992b-49bc-e401-fd45685872d5"
      },
      "outputs": [
        {
          "output_type": "stream",
          "name": "stdout",
          "text": [
            "Most common:  [('rotten tomatoes', 9393), ('category:english-language films', 5883), ('category:american films', 5867), ('variety (magazine)', 5453), ('metacritic', 5117), ('box office mojo', 4191), ('the new york times', 3823), ('the hollywood reporter', 3557), ('roger ebert', 2707), ('los angeles times', 2454)]\n"
          ]
        }
      ],
      "source": [
        "# Mentions in publications\n",
        "link_counts = Counter()\n",
        "for movie in movies:\n",
        "   link_counts.update(movie[2])\n",
        "print(\"Most common: \" , link_counts.most_common(10))"
      ]
    },
    {
      "cell_type": "code",
      "execution_count": null,
      "metadata": {
        "colab": {
          "base_uri": "https://localhost:8080/"
        },
        "id": "BD5dyALcU_LC",
        "outputId": "ef2ba501-a62b-4bdb-81e0-5bfee23d4ebd"
      },
      "outputs": [
        {
          "output_type": "execute_result",
          "data": {
            "text/plain": [
              "(864754, 39673, 9999)"
            ]
          },
          "metadata": {},
          "execution_count": 21
        }
      ],
      "source": [
        "top_links = [link for link, c in link_counts.items() if c >= 5]\n",
        "link_to_idx = {link:idx for idx,link in enumerate(top_links)}\n",
        "movie_to_idx = {movie[0]:idx for idx,movie in enumerate(movies)}\n",
        "\n",
        "pairs = []\n",
        "targets = []\n",
        "positive_pairs = {}\n",
        "for movie in movies:\n",
        "  pairs.extend([link_to_idx[link], movie_to_idx[movie[0]]] for link in movie[2] if link in link_to_idx)\n",
        "  targets.extend(1 for link in movie[2] if link in link_to_idx)\n",
        "  positive_pairs[movie_to_idx[movie[0]]] = [link_to_idx[link]  for link in movie[2] if link in link_to_idx]\n",
        "\n",
        "#pairs_set = set(pairs)\n",
        "len(pairs), len(top_links), len(movie_to_idx)"
      ]
    },
    {
      "cell_type": "code",
      "execution_count": null,
      "metadata": {
        "id": "4hRqpo6V1J7K"
      },
      "outputs": [],
      "source": [
        "import random\n",
        "def negative_samples(num_negative=10):\n",
        "  negative_samples = []\n",
        "  while True:\n",
        "    movie_id = random.sample(range(0,len(positive_pairs)), 1)[0]\n",
        "    sampled_link_id = random.sample(range(0, len(link_to_idx)),1)[0]\n",
        "    #print(movie_id, sampled_link_id) #8482 3302\n",
        "    if movie_id not in positive_pairs or sampled_link_id not in positive_pairs[movie_id]:\n",
        "      negative_samples.append([sampled_link_id, movie_id])\n",
        "      if len(negative_samples) >=num_negative:\n",
        "        break\n",
        "  return negative_samples\n",
        "  "
      ]
    },
    {
      "cell_type": "code",
      "execution_count": null,
      "metadata": {
        "colab": {
          "base_uri": "https://localhost:8080/"
        },
        "id": "275MRADNyRhm",
        "outputId": "8eb969e6-e043-4864-facf-b8c4c0c511c4"
      },
      "outputs": [
        {
          "data": {
            "text/plain": [
              "[8, 3120, 26, 660]"
            ]
          },
          "execution_count": 55,
          "metadata": {},
          "output_type": "execute_result"
        }
      ],
      "source": [
        "positive_pairs[8483]"
      ]
    },
    {
      "cell_type": "code",
      "execution_count": null,
      "metadata": {
        "id": "6cFs1peZzjGZ"
      },
      "outputs": [],
      "source": [
        "positive_labels = np.ones(len(pairs))\n",
        "positive_dataset = tf.data.Dataset.from_tensor_slices((pairs, positive_labels)).shuffle(500)\n",
        "\n",
        "negative_data = negative_samples(len(pairs) * 3)\n",
        "negative_labels = np.empty(len(negative_data))\n",
        "negative_labels.fill(0)\n",
        "negative_set = tf.data.Dataset.from_tensor_slices((negative_data, negative_labels)).shuffle(500)"
      ]
    },
    {
      "cell_type": "code",
      "execution_count": null,
      "metadata": {
        "id": "-d3f4ZEj95SB"
      },
      "outputs": [],
      "source": [
        "pos_ratio = 0.4\n",
        "neg_ratio = 1 - pos_ratio\n",
        "batch_size=256\n",
        "train_ds = tf.data.Dataset.sample_from_datasets(\n",
        "    [positive_dataset, negative_set], [pos_ratio, neg_ratio]).shuffle(500)\n",
        "train_set = train_ds.batch(batch_size)\n",
        "   \n",
        "\n",
        "\n",
        "\n"
      ]
    },
    {
      "cell_type": "code",
      "execution_count": null,
      "metadata": {
        "colab": {
          "base_uri": "https://localhost:8080/"
        },
        "id": "pP-Xywa3G3xq",
        "outputId": "906d9e75-4cce-4290-a174-b4eb79a0feb2"
      },
      "outputs": [
        {
          "data": {
            "text/plain": [
              "<BatchDataset element_spec=(TensorSpec(shape=(None, 2), dtype=tf.int32, name=None), TensorSpec(shape=(None,), dtype=tf.float64, name=None))>"
            ]
          },
          "execution_count": 12,
          "metadata": {},
          "output_type": "execute_result"
        }
      ],
      "source": [
        "train_set\n"
      ]
    },
    {
      "cell_type": "code",
      "execution_count": null,
      "metadata": {
        "colab": {
          "base_uri": "https://localhost:8080/"
        },
        "id": "uYM_MzGXYbnF",
        "outputId": "17310681-a2ef-48be-f22b-56628d2af06e"
      },
      "outputs": [
        {
          "output_type": "stream",
          "name": "stdout",
          "text": [
            "Model: \"model\"\n",
            "__________________________________________________________________________________________________\n",
            " Layer (type)                   Output Shape         Param #     Connected to                     \n",
            "==================================================================================================\n",
            " input (InputLayer)             [(None, 2)]          0           []                               \n",
            "                                                                                                  \n",
            " tf.compat.v1.gather (TFOpLambd  (None,)             0           ['input[0][0]']                  \n",
            " a)                                                                                               \n",
            "                                                                                                  \n",
            " tf.compat.v1.gather_1 (TFOpLam  (None,)             0           ['input[0][0]']                  \n",
            " bda)                                                                                             \n",
            "                                                                                                  \n",
            " link_embedding (Embedding)     (None, 32)           1269536     ['tf.compat.v1.gather[0][0]']    \n",
            "                                                                                                  \n",
            " movie_embedding (Embedding)    (None, 32)           319968      ['tf.compat.v1.gather_1[0][0]']  \n",
            "                                                                                                  \n",
            " dot_product (Dot)              (None, 1)            0           ['link_embedding[0][0]',         \n",
            "                                                                  'movie_embedding[0][0]']        \n",
            "                                                                                                  \n",
            " dense (Dense)                  (None, 1)            2           ['dot_product[0][0]']            \n",
            "                                                                                                  \n",
            "==================================================================================================\n",
            "Total params: 1,589,506\n",
            "Trainable params: 1,589,506\n",
            "Non-trainable params: 0\n",
            "__________________________________________________________________________________________________\n"
          ]
        }
      ],
      "source": [
        "embed_size=32\n",
        "model_input = tf.keras.layers.Input(name='input', shape=(2,))\n",
        "link = tf.gather(model_input, 0, axis=1)\n",
        "movie = tf.gather(model_input, 1, axis=1)\n",
        "link_embedding = tf.keras.layers.Embedding(name='link_embedding',\n",
        "                                    input_dim=len(top_links),\n",
        "                                    output_dim=embed_size)(link)\n",
        "movie_embedding = tf.keras.layers.Embedding(name='movie_embedding',\n",
        "                                    input_dim=len(movie_to_idx),\n",
        "                                    output_dim=embed_size)(movie)\n",
        "dotted = tf.keras.layers.Dot(name=\"dot_product\", normalize=True, axes=1)([link_embedding, movie_embedding])\n",
        "merged =  tf.keras.layers.Dense(1, activation=\"sigmoid\")(dotted)\n",
        "model_dot = tf.keras.Model(inputs=model_input, outputs=merged)\n",
        "model_dot.compile(optimizer='nadam', loss='binary_crossentropy', metrics=['accuracy'])\n",
        "model_dot.summary()"
      ]
    },
    {
      "cell_type": "code",
      "execution_count": null,
      "metadata": {
        "colab": {
          "base_uri": "https://localhost:8080/"
        },
        "id": "N2b6AHbkai-v",
        "outputId": "b0a535de-3216-4684-b62b-e1c1ff900bf6"
      },
      "outputs": [
        {
          "output_type": "stream",
          "name": "stdout",
          "text": [
            "Epoch 1/15\n",
            "13512/13512 - 135s - loss: 0.3656 - accuracy: 0.8324 - 135s/epoch - 10ms/step\n",
            "Epoch 2/15\n",
            "13512/13512 - 128s - loss: 0.3437 - accuracy: 0.8472 - 128s/epoch - 9ms/step\n",
            "Epoch 3/15\n",
            "13512/13512 - 126s - loss: 0.2626 - accuracy: 0.8923 - 126s/epoch - 9ms/step\n",
            "Epoch 4/15\n",
            "13512/13512 - 126s - loss: 0.2190 - accuracy: 0.9123 - 126s/epoch - 9ms/step\n",
            "Epoch 5/15\n",
            "13512/13512 - 126s - loss: 0.1859 - accuracy: 0.9284 - 126s/epoch - 9ms/step\n",
            "Epoch 6/15\n",
            "13512/13512 - 127s - loss: 0.1598 - accuracy: 0.9407 - 127s/epoch - 9ms/step\n",
            "Epoch 7/15\n",
            "13512/13512 - 124s - loss: 0.1384 - accuracy: 0.9502 - 124s/epoch - 9ms/step\n",
            "Epoch 8/15\n",
            "13512/13512 - 124s - loss: 0.1213 - accuracy: 0.9576 - 124s/epoch - 9ms/step\n",
            "Epoch 9/15\n",
            "13512/13512 - 125s - loss: 0.1072 - accuracy: 0.9635 - 125s/epoch - 9ms/step\n",
            "Epoch 10/15\n",
            "13512/13512 - 124s - loss: 0.0954 - accuracy: 0.9684 - 124s/epoch - 9ms/step\n",
            "Epoch 11/15\n",
            "13512/13512 - 125s - loss: 0.0857 - accuracy: 0.9722 - 125s/epoch - 9ms/step\n",
            "Epoch 12/15\n",
            "13512/13512 - 124s - loss: 0.0779 - accuracy: 0.9753 - 124s/epoch - 9ms/step\n",
            "Epoch 13/15\n",
            "13512/13512 - 125s - loss: 0.0714 - accuracy: 0.9777 - 125s/epoch - 9ms/step\n",
            "Epoch 14/15\n",
            "13512/13512 - 123s - loss: 0.0660 - accuracy: 0.9798 - 123s/epoch - 9ms/step\n",
            "Epoch 15/15\n",
            "13512/13512 - 125s - loss: 0.0614 - accuracy: 0.9815 - 125s/epoch - 9ms/step\n"
          ]
        }
      ],
      "source": [
        "# Use Tensorfow data api\n",
        "history = model_dot.fit(\n",
        "    train_set,\n",
        "    epochs=15,\n",
        "    verbose=2,\n",
        ")"
      ]
    },
    {
      "cell_type": "code",
      "source": [
        "model_dot.save('movie_rec_embed.h5')"
      ],
      "metadata": {
        "id": "Cn0TbIWkKG8I"
      },
      "execution_count": null,
      "outputs": []
    },
    {
      "cell_type": "markdown",
      "source": [
        "### Lookup Similar movies "
      ],
      "metadata": {
        "id": "d48en-xauDBJ"
      }
    },
    {
      "cell_type": "code",
      "execution_count": null,
      "metadata": {
        "colab": {
          "base_uri": "https://localhost:8080/"
        },
        "id": "IeBwV2IGFNq3",
        "outputId": "95684ddf-0fa8-4015-d960-786a169e686f"
      },
      "outputs": [
        {
          "output_type": "stream",
          "name": "stdout",
          "text": [
            "83 the matrix 1.0\n",
            "520 the matrix (franchise) 0.90385664\n",
            "576 the matrix reloaded 0.87560666\n",
            "779 the matrix revolutions 0.76862645\n",
            "516 pearl harbor (film) 0.7670082\n",
            "240 black hawk down (film) 0.7660147\n",
            "61 man of steel (film) 0.73709345\n",
            "32 blade runner 0.7211242\n",
            "1918 the animatrix 0.707326\n",
            "155 gladiator (2000 film) 0.7069038\n"
          ]
        }
      ],
      "source": [
        "\n",
        "\n",
        "movie = model_dot.get_layer('movie_embedding')\n",
        "movie_weights = movie.get_weights()[0]\n",
        "movie_lengths = np.linalg.norm(movie_weights, axis=1)\n",
        "normalized_movies = (movie_weights.T / movie_lengths).T\n",
        "\n",
        "def similar_movies(movie):\n",
        "    dists = np.dot(normalized_movies, normalized_movies[movie_to_idx[movie]])\n",
        "    closest = np.argsort(dists)[-10:]\n",
        "    for c in reversed(closest):\n",
        "        print(c, movies[c][0], dists[c])\n",
        "\n",
        "similar_movies('the matrix')\n",
        "\n"
      ]
    },
    {
      "cell_type": "markdown",
      "source": [
        "### Lookup Similar Links"
      ],
      "metadata": {
        "id": "AKkbC6w-uLw6"
      }
    },
    {
      "cell_type": "code",
      "execution_count": null,
      "metadata": {
        "colab": {
          "base_uri": "https://localhost:8080/"
        },
        "id": "zflKqwMpfmfR",
        "outputId": "f80b9562-5cf9-4940-dd1b-c4af9807ff08"
      },
      "outputs": [
        {
          "output_type": "stream",
          "name": "stdout",
          "text": [
            "157 rotten tomatoes 1.0000001\n",
            "192 category:english-language films 0.9766381\n",
            "461 the new york times 0.9732829\n",
            "190 category:american films 0.9732761\n",
            "21 variety (magazine) 0.9604075\n",
            "290 dvd 0.95995855\n",
            "22 box office mojo 0.9530238\n",
            "974 roger ebert 0.9508972\n",
            "158 metacritic 0.9418756\n",
            "1402 flixster 0.94064975\n"
          ]
        }
      ],
      "source": [
        "link = model_dot.get_layer('link_embedding')\n",
        "link_weights = link.get_weights()[0]\n",
        "link_lengths = np.linalg.norm(link_weights, axis=1)\n",
        "normalized_links = (link_weights.T / link_lengths).T\n",
        "\n",
        "def similar_links(link):\n",
        "    dists = np.dot(normalized_links, normalized_links[link_to_idx[link]])\n",
        "    closest = np.argsort(dists)[-10:]\n",
        "    for c in reversed(closest):\n",
        "        print(c, top_links[c], dists[c])\n",
        "\n",
        "similar_links('rotten tomatoes')"
      ]
    },
    {
      "cell_type": "markdown",
      "source": [
        "# Cluster embeddings to find similar movies"
      ],
      "metadata": {
        "id": "rA4pm7pkt8MP"
      }
    },
    {
      "cell_type": "code",
      "source": [
        "trained_model = tf.keras.models.load_model(\"movie_rec_embed.h5\")\n",
        "movie = trained_model.get_layer('movie_embedding')\n",
        "movie_weights = movie.get_weights()[0]\n",
        "movie_lengths = np.linalg.norm(movie_weights, axis=1)\n",
        "normalized_movies = (movie_weights.T / movie_lengths).T\n"
      ],
      "metadata": {
        "id": "7qOQFv4naZVV"
      },
      "execution_count": null,
      "outputs": []
    },
    {
      "cell_type": "code",
      "source": [
        "from sklearn.mixture import GaussianMixture\n",
        "gm_models = {}\n",
        "for component in [10,20,50,60,80,100,120]:\n",
        "  gm = GaussianMixture(n_components=component)\n",
        "  gm.fit(normalized_movies)\n",
        "  gm_models[component] = gm\n",
        "  bic = gm.bic(normalized_movies)\n",
        "  print(\"Component: \", component, \" BIC:\" , bic)"
      ],
      "metadata": {
        "colab": {
          "base_uri": "https://localhost:8080/"
        },
        "id": "aPFSWUwda5YF",
        "outputId": "3d52b087-129e-4c74-ca09-6c9a06c4b263"
      },
      "execution_count": null,
      "outputs": [
        {
          "output_type": "stream",
          "name": "stdout",
          "text": [
            "Component:  10  BIC: -280719.4458233196\n",
            "Component:  20  BIC: -241773.5986047623\n",
            "Component:  50  BIC: -115986.71353594115\n",
            "Component:  60  BIC: -71764.98743919481\n",
            "Component:  80  BIC: 17584.50585651485\n",
            "Component:  100  BIC: 108122.54596649861\n",
            "Component:  120  BIC: 197284.8715086562\n"
          ]
        }
      ]
    },
    {
      "cell_type": "code",
      "source": [
        "np.round(gm_models[10].weights_, 2)"
      ],
      "metadata": {
        "colab": {
          "base_uri": "https://localhost:8080/"
        },
        "id": "DCzrdgV7baNk",
        "outputId": "4f98d0b1-af94-4b4c-83ab-f8b5931ba43e"
      },
      "execution_count": null,
      "outputs": [
        {
          "output_type": "execute_result",
          "data": {
            "text/plain": [
              "array([0.08, 0.12, 0.07, 0.08, 0.07, 0.17, 0.12, 0.16, 0.07, 0.05])"
            ]
          },
          "metadata": {},
          "execution_count": 28
        }
      ]
    },
    {
      "cell_type": "code",
      "source": [
        "gm = gm_models[10]"
      ],
      "metadata": {
        "id": "lLW1IBl4fatC"
      },
      "execution_count": null,
      "outputs": []
    },
    {
      "cell_type": "code",
      "source": [
        "all_preds = gm.predict(normalized_movies)"
      ],
      "metadata": {
        "id": "ihxhpWfBvq0t"
      },
      "execution_count": null,
      "outputs": []
    },
    {
      "cell_type": "code",
      "source": [
        "def predict_gm(movie_name):\n",
        "  movie_input = normalized_movies[movie_to_idx[movie_name]]\n",
        "  pred = all_preds[movie_to_idx[movie_name]]\n",
        "  matching_idx = all_preds == pred\n",
        "  print(\"Cluster: \", pred, \" num_elements=\", np.sum(matching_idx))\n",
        "  return [m for m, cluster in zip(movie_to_idx, matching_idx) if cluster==True]\n",
        "\n",
        "\n",
        "predict_gm('rogue one')\n",
        "  "
      ],
      "metadata": {
        "colab": {
          "base_uri": "https://localhost:8080/"
        },
        "id": "EakM7MEYvFs0",
        "outputId": "95ce855e-55f4-4b1c-9789-4c6ee9ef05a4"
      },
      "execution_count": null,
      "outputs": [
        {
          "output_type": "stream",
          "name": "stdout",
          "text": [
            "Cluster:  5  num_elements= 299\n"
          ]
        },
        {
          "output_type": "execute_result",
          "data": {
            "text/plain": [
              "['deadpool (film)',\n",
              " 'suicide squad (film)',\n",
              " 'spectre (2015 film)',\n",
              " 'warcraft (film)',\n",
              " 'the martian (film)',\n",
              " 'list of marvel cinematic universe films',\n",
              " 'x-men (film series)',\n",
              " 'the jungle book (2016 film)',\n",
              " '10 cloverfield lane',\n",
              " 'dc universe animated original movies',\n",
              " 'star trek beyond',\n",
              " 'interstellar (film)',\n",
              " 'ant-man (film)',\n",
              " 'everest (2015 film)',\n",
              " 'jurassic world',\n",
              " 'gods of egypt (film)',\n",
              " 'star wars sequel trilogy',\n",
              " 'the conjuring 2',\n",
              " 'rogue one',\n",
              " 'finding dory',\n",
              " 'harry potter (film series)',\n",
              " 'doctor strange (film)',\n",
              " 'furious 7',\n",
              " 'avatar (2009 film)',\n",
              " 'guardians of the galaxy (film)',\n",
              " 'the avengers (2012 film)',\n",
              " 'crimson peak',\n",
              " 'fantastic four (2015 film)',\n",
              " 'london has fallen',\n",
              " 'divergent (film)',\n",
              " 'bourne (film series)',\n",
              " 'pirates of the caribbean (film series)',\n",
              " 'the man from u.n.c.l.e. (film)',\n",
              " 'man of steel (film)',\n",
              " 'fantastic beasts and where to find them (film)',\n",
              " 'the fast and the furious',\n",
              " 'krampus (film)',\n",
              " 'skyfall',\n",
              " 'dc extended universe',\n",
              " 'in the heart of the sea (film)',\n",
              " 'me before you (film)',\n",
              " 'the divergent series',\n",
              " 'the dark knight (film)',\n",
              " 'the dark knight rises',\n",
              " 'wonder woman (2017 film)',\n",
              " 'the walk (2015 film)',\n",
              " 'pan (2015 film)',\n",
              " 'the matrix',\n",
              " 'tomorrowland (film)',\n",
              " 'fifty shades of grey (film)',\n",
              " 'beauty and the beast (2017 film)',\n",
              " 'the hobbit (film series)',\n",
              " 'the legend of tarzan (film)',\n",
              " 'the lord of the rings (film series)',\n",
              " 'san andreas (film)',\n",
              " 'prometheus (2012 film)',\n",
              " 'grimsby (film)',\n",
              " 'the last witch hunter',\n",
              " 'casino royale (2006 film)',\n",
              " 'guardians of the galaxy vol. 2',\n",
              " 'watchmen (film)',\n",
              " 'hotel transylvania 2',\n",
              " 'justice league vs. teen titans',\n",
              " 'hardcore henry',\n",
              " 'star trek into darkness',\n",
              " 'iron man 3',\n",
              " 'fury (2014 film)',\n",
              " 'zoolander 2',\n",
              " 'moana (2016 film)',\n",
              " 'star trek (film)',\n",
              " 'gladiator (2000 film)',\n",
              " 'jupiter ascending',\n",
              " 'thor (film)',\n",
              " 'victor frankenstein (film)',\n",
              " 'quantum of solace',\n",
              " 'alice in wonderland (2010 film)',\n",
              " '300 (film)',\n",
              " 'batman begins',\n",
              " 'the peanuts movie',\n",
              " 'pacific rim (film)',\n",
              " 'the amazing spider-man 2',\n",
              " 'snow white and the huntsman',\n",
              " 'iron man (2008 film)',\n",
              " 'the incredible hulk (film)',\n",
              " 'risen (2016 film)',\n",
              " 'olympus has fallen',\n",
              " 'inferno (2016 film)',\n",
              " 'transformers (film)',\n",
              " 'transformers (film series)',\n",
              " 'the shallows (film)',\n",
              " 'the dark knight trilogy',\n",
              " 'jurassic park',\n",
              " 'jem and the holograms (film)',\n",
              " 'star trek (film series)',\n",
              " 'black hawk down (film)',\n",
              " 'into the woods (film)',\n",
              " 'gravity (film)',\n",
              " 'passengers (2016 film)',\n",
              " 'the incredibles',\n",
              " 'keanu (film)',\n",
              " \"assassin's creed (film)\",\n",
              " 'lucy (2014 film)',\n",
              " 'ratchet & clank (film)',\n",
              " 'criminal (2016 film)',\n",
              " 'the lego movie',\n",
              " 'teenage mutant ninja turtles (2014 film)',\n",
              " 'fast & furious 6',\n",
              " 'troy (film)',\n",
              " 'green lantern (film)',\n",
              " 'xxx (2002 film)',\n",
              " 'free state of jones (film)',\n",
              " 'kick-ass (film)',\n",
              " \"harry potter and the philosopher's stone (film)\",\n",
              " 'trolls (film)',\n",
              " 'kingdom of heaven (film)',\n",
              " 'die another day',\n",
              " 'kung fu panda',\n",
              " 'iron man 2',\n",
              " 'chappie (film)',\n",
              " 'the passion of the christ',\n",
              " 'eye in the sky (2015 film)',\n",
              " 'the chronicles of narnia (film series)',\n",
              " 'the expendables 3',\n",
              " 'the amazing spider-man (2012 film)',\n",
              " 'harry potter and the deathly hallows – part 2',\n",
              " 'tangled',\n",
              " 'power rangers (film)',\n",
              " 'ben-hur (2016 film)',\n",
              " 'the little prince (2015 film)',\n",
              " 'spider-man (2002 film)',\n",
              " 'the bourne ultimatum (film)',\n",
              " 'i am legend (film)',\n",
              " 'daredevil (film)',\n",
              " 'dunkirk (2017 film)',\n",
              " 'hotel transylvania',\n",
              " 'constantine (film)',\n",
              " 'looper (film)',\n",
              " 'brave (2012 film)',\n",
              " 'jack reacher (film)',\n",
              " 'spider-man 3',\n",
              " 'the last airbender',\n",
              " 'armageddon (1998 film)',\n",
              " 'wreck-it ralph',\n",
              " 'elysium (film)',\n",
              " 'pearl harbor (film)',\n",
              " 'after earth',\n",
              " 'hercules (2014 film)',\n",
              " 'the matrix (franchise)',\n",
              " 'despicable me',\n",
              " 'zombieland',\n",
              " '2012 (film)',\n",
              " 'the crow (1994 film)',\n",
              " 'heat (1995 film)',\n",
              " 'the punisher (2004 film)',\n",
              " 'the matrix reloaded',\n",
              " 'the da vinci code (film)',\n",
              " 'king kong (2005 film)',\n",
              " 'source code',\n",
              " 'the accountant (2016 film)',\n",
              " 'how to train your dragon (film)',\n",
              " 'batman vs. robin',\n",
              " 'dredd',\n",
              " 'the giver (film)',\n",
              " 'mortdecai (film)',\n",
              " 'kick-ass 2 (film)',\n",
              " 'terminator salvation',\n",
              " 'war dogs (2016 film)',\n",
              " 'district 9',\n",
              " 'riddick (film)',\n",
              " 'nosferatu',\n",
              " 'serenity (film)',\n",
              " 'rise of the planet of the apes',\n",
              " 'harry potter and the goblet of fire (film)',\n",
              " 'a.i. artificial intelligence',\n",
              " 'stardust (2007 film)',\n",
              " 'the day after tomorrow',\n",
              " 'kung fury',\n",
              " 'seventh son (film)',\n",
              " 'harry potter and the deathly hallows – part 1',\n",
              " 'clash of the titans (2010 film)',\n",
              " 'nausicaä of the valley of the wind (film)',\n",
              " 'the lone ranger (2013 film)',\n",
              " 'fast five',\n",
              " 'jumper (2008 film)',\n",
              " 'immortals (2011 film)',\n",
              " 'wanted (2008 film)',\n",
              " 'the matrix revolutions',\n",
              " 'spider-man 2',\n",
              " 'max (2015 film)',\n",
              " 'harry potter and the order of the phoenix (film)',\n",
              " 'harry potter and the prisoner of azkaban (film)',\n",
              " 'the mummy (2017 film)',\n",
              " 'how to train your dragon 2',\n",
              " 'kubo and the two strings',\n",
              " 'the mummy returns',\n",
              " 'the happening (2008 film)',\n",
              " 'harry potter and the half-blood prince (film)',\n",
              " 'silent hill (film)',\n",
              " 'fantastic four (2005 film)',\n",
              " 'van helsing (film)',\n",
              " 'the book of eli',\n",
              " 'the fast and the furious (2001 film)',\n",
              " 'the golden compass (film)',\n",
              " 'red (2010 film)',\n",
              " 'harry potter and the chamber of secrets (film)',\n",
              " 'jurassic park iii',\n",
              " 'robocop (2014 film)',\n",
              " 'the mummy (franchise)',\n",
              " 'hancock (film)',\n",
              " 'batman v superman: dawn of justice',\n",
              " 'the thing (2011 film)',\n",
              " 'the league of extraordinary gentlemen (film)',\n",
              " 'alvin and the chipmunks (film series)',\n",
              " 'wrath of the titans',\n",
              " 'the chronicles of riddick (franchise)',\n",
              " 'the signal (2014 film)',\n",
              " 'marvel one-shots',\n",
              " 'son of batman',\n",
              " 'the promise (2016 film)',\n",
              " 'rush hour (film series)',\n",
              " 'battle royale (film)',\n",
              " 'total recall (2012 film)',\n",
              " 'the lego batman movie',\n",
              " 'jungle book (2018 film)',\n",
              " 'the jungle book (1994 film)',\n",
              " 'happy feet',\n",
              " 'captain america: civil war',\n",
              " 'a good day to die hard',\n",
              " 'beowulf (2007 film)',\n",
              " 'jonah hex (film)',\n",
              " 'catwoman (film)',\n",
              " 'mirror mirror (film)',\n",
              " 'the gunman (film)',\n",
              " 'peter pan (2003 film)',\n",
              " 'storks (film)',\n",
              " 'shaun the sheep movie',\n",
              " 'pitch black (film)',\n",
              " 'frozen fever',\n",
              " 'marvel animated features',\n",
              " 'safe house (2012 film)',\n",
              " 'zathura (film)',\n",
              " 'the green hornet (2011 film)',\n",
              " 'megamind',\n",
              " 'speed racer (film)',\n",
              " 'titan a.e.',\n",
              " 'the brothers grimm (film)',\n",
              " '10,000 bc (film)',\n",
              " 'black panther (film)',\n",
              " 'monster trucks (film)',\n",
              " 'the muppets (film)',\n",
              " 'the animatrix',\n",
              " 'cloudy with a chance of meatballs (film)',\n",
              " 'star trek generations',\n",
              " 'masters of the universe (film)',\n",
              " 'the wolfman (2010 film)',\n",
              " 'tmnt (film)',\n",
              " 'rush hour (1998 film)',\n",
              " 'osmosis jones',\n",
              " 'x-men: apocalypse',\n",
              " 'teenage mutant ninja turtles (film series)',\n",
              " 'allied (film)',\n",
              " 'gangnam style (music video)',\n",
              " 'titanic ii (film)',\n",
              " 'around the world in 80 days (2004 film)',\n",
              " 'fantastic four in film',\n",
              " 'all hail the king',\n",
              " 'wonder woman (2009 film)',\n",
              " 'city of angels (film)',\n",
              " 'frequency (film)',\n",
              " 'open water (film)',\n",
              " 'cloudy with a chance of meatballs 2',\n",
              " 'monte carlo (2011 film)',\n",
              " 'shanghai knights',\n",
              " 'alpha and omega (film)',\n",
              " 'eight below',\n",
              " 'stealth (film)',\n",
              " 'morning glory (2010 film)',\n",
              " 'step up 3d',\n",
              " 'astro boy (film)',\n",
              " 'timeline (film)',\n",
              " 'johnny mnemonic (film)',\n",
              " 'star wars: the force awakens',\n",
              " \"mary shelley's frankenstein (film)\",\n",
              " 'season of the witch (2011 film)',\n",
              " 'walking with dinosaurs (film)',\n",
              " 'larrikins (film)',\n",
              " 'penelope (2006 film)',\n",
              " 'item 47',\n",
              " 'lethal weapon 3',\n",
              " 'men in black (film series)',\n",
              " 'the incredibles 2',\n",
              " 'fred claus',\n",
              " 'free birds',\n",
              " 'below (film)',\n",
              " 'underdog (film)',\n",
              " 'mirrormask',\n",
              " 'godzilla 2000',\n",
              " 'the prophet (2014 film)',\n",
              " \"spongebob's truth or square\"]"
            ]
          },
          "metadata": {},
          "execution_count": 30
        }
      ]
    },
    {
      "cell_type": "markdown",
      "source": [
        "### I am feeling lucky"
      ],
      "metadata": {
        "id": "RMlkc-xruRwa"
      }
    },
    {
      "cell_type": "code",
      "source": [
        "def feeling_lucky():\n",
        "  sampled = gm.sample()\n",
        "  dists = np.dot(normalized_movies, sampled[0][0])\n",
        "  closest = np.argsort(dists)[-1]\n",
        "  closest_movie_name = movies[closest][0]\n",
        "  print(\"Closest movie: \", closest_movie_name)\n",
        "  print(predict_gm(closest_movie_name))\n",
        "\n",
        "feeling_lucky()\n"
      ],
      "metadata": {
        "colab": {
          "base_uri": "https://localhost:8080/"
        },
        "id": "VgdgOx7MytVL",
        "outputId": "9615e536-4ceb-4e66-8ff0-b361d5fefe8c"
      },
      "execution_count": null,
      "outputs": [
        {
          "output_type": "stream",
          "name": "stdout",
          "text": [
            "Closest movie:  khuda kay liye\n",
            "Cluster:  7  num_elements= 398\n",
            "['airlift (film)', 'fan (film)', 'tamasha (film)', 'hate story 3', 'sanam teri kasam (2016 film)', 'sanam re', 'housefull 3', 'neerja', 'great grand masti', 'azhar (film)', 'welcome back (film)', 'kyaa kool hain hum 3', 'singh is bliing', 'fitoor', 'rocky handsome', 'baaghi (2016 film)', 'wazir (film)', 'talvar (film)', 'shaandaar', 'pk (film)', 'dishoom', 'slumdog millionaire', 'mastizaade', 'pyaar ka punchnama 2', '2.0 (film)', 'phantom (2015 film)', 'drishyam (2015 film)', 'brothers (2015 film)', 'jazbaa', 'hero (2015 hindi film)', 'rustom (film)', 'kis kisko pyaar karoon', 'ki & ka', 'do lafzon ki kahani (film)', 'one night stand (2016 film)', 'calendar girls (2015 film)', 'te3n', 'katti batti', 'raman raghav 2.0', 'a flying jatt', 'sarbjit (film)', 'hamari adhuri kahani', 'piku', 'badlapur (film)', 'happy new year (2014 film)', 'main aur charles', 'dum laga ke haisha', 'aashiqui 2', 'aligarh (film)', 'yeh jawaani hai deewani', 'kick (2014 film)', 'angry indian goddesses', 'ragini mms 2', 'kuch kuch hota hai', 'all is well (film)', 'madaari', 'run bhola run', 'manjhi - the mountain man', 'bang bang!', 'pyaar ka punchnama', 'taare zameen par', 'lagaan', 'queen (film)', 'bombay velvet', 'the second best exotic marigold hotel', 'masaan', 'kung fu yoga', 'nil battey sannata', 'baar baar dekho', 'jawani phir nahi ani', 'junooniyat', 'jai ho (film)', 'rockstar (2011 film)', 'shivaay', 'traffic (2016 film)', 'haider (film)', 'katyar kaljat ghusali (film)', 'nh10', 'veerappan (2016 film)', 'action jackson (2014 film)', 'natsamrat', 'grand masti', 'hunterrr', 'loveshhuda', 'main tera hero', 'the lunchbox', 'housefull 2', 'ra.one', 'force 2', 'maine pyar kiya', 'baby (2015 hindi film)', 'ugly (film)', 'raanjhanaa', 'detective byomkesh bakshy!', 'gabbar is back', 'ambarsariya', 'highway (2014 hindi film)', 'rang de basanti', 'yaariyan (2014 film)', 'phobia (2016 film)', 'hasee toh phasee', 'swades', 'bride and prejudice', 'humpty sharma ki dulhania', 'jism 2', 'shamitabh', 'guru (2007 film)', 'khamoshiyan', 'dolly ki doli', 'akira (2016 hindi film)', 'chak de! india', 'ek paheli leela', 'don 2', 'gangs of wasseypur – part 2', 'bodyguard (2011 hindi film)', 'pathemari', 'mughal-e-azam', 'sleepless night (2011 film)', 'fanaa (film)', 'dil chahta hai', 'water (2005 film)', 'tere naam', 'tanu weds manu', 'chalk n duster', 'bin roye', 'rakta charitra', 'english vinglish', 'madras cafe', 'court (film)', 'jab we met', 'ramaiya vastavaiya', 'angrej', 'fukrey', 'shuddh desi romance', 'love aaj kal', 'rowdy rathore', 'vishwaroopam ii', 'special 26', 'murder 2', 'mirzya (film)', 'dabangg 2', 'vicky donor', 'kill dil', 'omg – oh my god!', 'black friday (2007 film)', 'dhanak', 'jism (2003 film)', 'the namesake (film)', 'singham returns', 'don (2006 hindi film)', 'finding fanny', 'force (2011 film)', 'maalik (2016 film)', 'monsoon wedding', 'rang rasiya', 'new york (film)', 'lion (2016 film)', 'omkara (2006 film)', 'kuch kuch locha hai', 'heroine (2012 film)', 'b.a. pass', 'once upon a time in mumbaai', 'race 2', 'raajneeti', 'half girlfriend (film)', 'jaane tu... ya jaane na', 'iruvar', 'boss (2013 hindi film)', 'lai bhaari', 'kyaa super kool hain hum', '1920 (film)', 'munna bhai m.b.b.s.', 'zanjeer (2013 film)', 'd-day (2013 film)', 'ladies vs ricky bahl', 'delhi belly (film)', 'rajkahini', \"india's daughter\", 'murder 3', 'ishaqzaade', 'sixteen (2013 indian film)', 'spud (film)', 'kandukondain kandukondain', 'dr. cabbie', 'humshakals', 'desi boyz', 'the legend of michael mishra', 'company (film)', 'ragini mms', 'kyaa kool hai hum', 'dev.d', 'ungli', 'r... rajkumar', 'paa (film)', 'kai po che!', 'fire (1996 film)', 'gangster (2006 film)', 'titli (2014 film)', 'unfreedom', 'fever (2016 film)', 'daawat-e-ishq', 'murder (2004 film)', 'chauranga', 'singh is kinng', 'thank you (2011 film)', 'tere bin laden', 'veer (film)', 'ajab prem ki ghazab kahani', 'msg-2 the messenger', 'dil toh baccha hai ji', 'mere brother ki dulhan', 'the attacks of 26/11', 'bol (film)', 'shootout at lokhandwala', 'khelein hum jee jaan sey', 'zubaan', 'i hate luv storys', 'the shaukeens', 'bhaiyyaji superhitt', \"midnight's children (film)\", \"viceroy's house (film)\", 'khuda kay liye', 'rock on!!', 'teen patti (film)', 'bol bachchan', 'parineeta (2005 film)', 'aap kaa surroor (film)', 'players (film)', 'badrinath ki dulhania', 'sarkar (film)', 'salaam bombay!', 'gulaab gang', 'channo kamli yaar di', 'shanghai (2012 film)', 'agent vinod (2012 film)', 'anwar (2007 film)', 'aisha (film)', 'heyy babyy', 'namastey london', 'citylights (2014 film)', 'shahid (film)', 'shaitan (film)', 'happy bhag jayegi', 'mujhse shaadi karogi', 'masti (2004 film)', 'tigers (film)', 'no smoking (2007 film)', 'chaar sahibzaade', 'gulaal', 'anjaana anjaani', 'aarakshan', 'golmaal 3', 'paanch', 'ship of theseus (film)', 'go goa gone', 'parched', 'waiting (2015 film)', 'sonali cable', 'waar', 'race (2008 film)', 'billu', 'bollywood diaries', 'ankhon dekhi', 'luck by chance', 'himmatwala (2013 film)', 'jannat 2', 'delhi-6', 'ab tumhare hawale watan saathiyo', 'maula jatt 2', 'no one killed jessica', 'paheli', 'chokher bali (film)', 'besharam (2013 film)', 'udaan (2010 film)', 'garam masala (2005 film)', 'fiza', 'agneepath (1990 film)', 'sharafat gayi tel lene', 'zinda (film)', 'ishqiya', 'raaz 3d', 'arshinagar', 'ankur arora murder case', 'son of sardaar', 'de dana dan', 'lekar hum deewana dil', 'aladin (film)', 'jackpot (2013 film)', 'karthik calling karthik', 'bewakoofiyaan', 'singh saab the great', 'luv ka the end', 'a wednesday!', 'that girl in yellow boots', 'kaal', 'dhobi ghat (film)', 'firaaq', 'raja harishchandra', 'alag', 'table no. 21', 'bezubaan ishq', 'phata poster nikhla hero', 'bhoothnath returns', 'har har byomkesh', \"what's your raashee?\", 'matru ki bijlee ka mandola', 'paan singh tomar (film)', 'dum maaro dum (film)', 'darna zaroori hai', 'breakaway (2011 film)', 'golmaal returns', 'qissa (film)', 'chillar party', 'heartless (2014 film)', 'shor in the city', 'disco dancer', 'peepli live', 'luck (film)', 'parzania', 'the xposé', 'break ke baad', 'nishabd', 'salaam namaste', 'shaadi ke side effects', 'badmaash company', 'raja natwarlal', 'the blueberry hunt', 'sarkar raj', 'chandni chowk to china', 'kabul express', 'we are family (film)', 'mumbai-pune-mumbai 2', 'provoked (film)', 'raincoat (film)', 'oye lucky! lucky oye!', 'the japanese wife', 'joker (2012 film)', 'london dreams', 'haunted – 3d', 'dus kahaniyaan', 'bullett raja', 'satya 2', 'matrubhoomi', 'satyagraha (film)', 'mumbai cutting', 'hulchul (2004 film)', 'dor (film)', 'parbona ami chartey tokey', 'chinnadana nee kosam', 'hazaaron khwaishein aisi', 'housefull (film series)', 'ta ra rum pum', 'aiyyaa', 'sardaar ji 2', 'jinnah (film)', 'tezz', '404 (film)', 'darna mana hai', 'no problem (2010 film)', 'umrika', 'ek hasina thi (film)', 'jhoom barabar jhoom', 'not a love story (2011 film)', 'shareek', 'love story 2050', 'the other end of the line', 'shaurya', 'bbuddah... hoga terra baap', 'bobby jasoos', 'tees maar khan (2010 film)', 'laaga chunari mein daag', 'iqbal (film)', 'mr. and mrs. iyer', '8 x 10 tasveer', 'f.a.l.t.u', 'kismat konnection', 'i, me aur main', 'double dhamaal', 'lamhaa', 'miss lovely', 'commando 2', 'pink (2016 film)', 'revolver rani', 'dr. babasaheb ambedkar (film)', 'kajarya', 'khiladi 420', 'mahabharat (2013 film)', 'ghanchakkar (film)', 'tum mile', 'diljale', 'of human bondage (1934 film)', 'khiladi (film series)', 'summer lovers', 'horror express', 'satte pe satta', 'okka ammayi thappa', 'summer rental', 'bella (film)']\n"
          ]
        }
      ]
    },
    {
      "cell_type": "markdown",
      "source": [],
      "metadata": {
        "id": "_ruiqX4Rtxxd"
      }
    }
  ],
  "metadata": {
    "accelerator": "GPU",
    "colab": {
      "collapsed_sections": [],
      "provenance": [],
      "toc_visible": true,
      "include_colab_link": true
    },
    "gpuClass": "standard",
    "kernelspec": {
      "display_name": "Python 3",
      "name": "python3"
    },
    "language_info": {
      "name": "python"
    }
  },
  "nbformat": 4,
  "nbformat_minor": 0
}